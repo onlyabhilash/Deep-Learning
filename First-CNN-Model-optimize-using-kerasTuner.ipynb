{
 "cells": [
  {
   "cell_type": "markdown",
   "id": "cloudy-influence",
   "metadata": {},
   "source": [
    "### Create CNN Model and Optimize it using Keras Tuner"
   ]
  },
  {
   "cell_type": "code",
   "execution_count": 25,
   "id": "extra-screening",
   "metadata": {},
   "outputs": [],
   "source": [
    "import tensorflow as tf\n",
    "from tensorflow import keras\n",
    "import numpy as np"
   ]
  },
  {
   "cell_type": "code",
   "execution_count": 26,
   "id": "confirmed-venture",
   "metadata": {},
   "outputs": [
    {
     "name": "stdout",
     "output_type": "stream",
     "text": [
      "2.3.0\n"
     ]
    }
   ],
   "source": [
    "print(tf.__version__)"
   ]
  },
  {
   "cell_type": "code",
   "execution_count": 27,
   "id": "certified-boards",
   "metadata": {},
   "outputs": [],
   "source": [
    "fashion_mnist=keras.datasets.fashion_mnist"
   ]
  },
  {
   "cell_type": "code",
   "execution_count": 28,
   "id": "elect-zoning",
   "metadata": {},
   "outputs": [],
   "source": [
    "(train_images,train_labels),(test_images,test_labels)=fashion_mnist.load_data()"
   ]
  },
  {
   "cell_type": "code",
   "execution_count": 29,
   "id": "yellow-america",
   "metadata": {},
   "outputs": [],
   "source": [
    "train_images=train_images/255.0\n",
    "test_images=test_images/255.0"
   ]
  },
  {
   "cell_type": "code",
   "execution_count": 30,
   "id": "religious-problem",
   "metadata": {},
   "outputs": [
    {
     "data": {
      "text/plain": [
       "(28, 28)"
      ]
     },
     "execution_count": 30,
     "metadata": {},
     "output_type": "execute_result"
    }
   ],
   "source": [
    "train_images[0].shape"
   ]
  },
  {
   "cell_type": "code",
   "execution_count": 31,
   "id": "infectious-hardwood",
   "metadata": {},
   "outputs": [],
   "source": [
    "train_images=train_images.reshape(len(train_images),28,28,1)\n",
    "test_images=test_images.reshape(len(test_images),28,28,1)"
   ]
  },
  {
   "cell_type": "code",
   "execution_count": 32,
   "id": "dress-drawing",
   "metadata": {},
   "outputs": [],
   "source": [
    "def build_model(hp):  \n",
    "  model = keras.Sequential([\n",
    "    keras.layers.Conv2D(\n",
    "        filters=hp.Int('conv_1_filter', min_value=32, max_value=128, step=16),\n",
    "        kernel_size=hp.Choice('conv_1_kernel', values = [3,5]),\n",
    "        activation='relu',\n",
    "        input_shape=(28,28,1)\n",
    "    ),\n",
    "    keras.layers.Conv2D(\n",
    "        filters=hp.Int('conv_2_filter', min_value=32, max_value=64, step=16),\n",
    "        kernel_size=hp.Choice('conv_2_kernel', values = [3,5]),\n",
    "        activation='relu'\n",
    "    ),\n",
    "    keras.layers.Flatten(),\n",
    "    keras.layers.Dense(\n",
    "        units=hp.Int('dense_1_units', min_value=32, max_value=128, step=16),\n",
    "        activation='relu'\n",
    "    ),\n",
    "    keras.layers.Dense(10, activation='softmax')\n",
    "  ])\n",
    "  \n",
    "  model.compile(optimizer=keras.optimizers.Adam(hp.Choice('learning_rate', values=[1e-2, 1e-3])),\n",
    "              loss='sparse_categorical_crossentropy',\n",
    "              metrics=['accuracy'])\n",
    "  \n",
    "  return model"
   ]
  },
  {
   "cell_type": "code",
   "execution_count": 33,
   "id": "perfect-device",
   "metadata": {},
   "outputs": [],
   "source": [
    "from kerastuner import RandomSearch\n",
    "from kerastuner.engine.hyperparameters import HyperParameters"
   ]
  },
  {
   "cell_type": "code",
   "execution_count": 34,
   "id": "vulnerable-boxing",
   "metadata": {},
   "outputs": [
    {
     "name": "stdout",
     "output_type": "stream",
     "text": [
      "INFO:tensorflow:Reloading Oracle from existing project output\\Mnist Fashion\\oracle.json\n",
      "INFO:tensorflow:Reloading Tuner from output\\Mnist Fashion\\tuner0.json\n"
     ]
    }
   ],
   "source": [
    "tuner_search = RandomSearch(build_model,\n",
    "                            objective = 'val_accuracy',\n",
    "                            max_trials = 5,\n",
    "                           directory = 'output',\n",
    "                           project_name = 'Mnist Fashion')"
   ]
  },
  {
   "cell_type": "code",
   "execution_count": null,
   "id": "technical-meter",
   "metadata": {},
   "outputs": [
    {
     "name": "stdout",
     "output_type": "stream",
     "text": [
      "\n",
      "Search: Running Trial #1\n",
      "\n",
      "Hyperparameter    |Value             |Best Value So Far \n",
      "conv_1_filter     |64                |48                \n",
      "conv_1_kernel     |3                 |5                 \n",
      "conv_2_filter     |48                |48                \n",
      "conv_2_kernel     |5                 |3                 \n",
      "dense_1_units     |128               |64                \n",
      "learning_rate     |0.001             |0.001             \n",
      "\n",
      "1688/1688 [==============================] - 266s 157ms/step - loss: 0.3783 - accuracy: 0.8637 - val_loss: 0.2909 - val_accuracy: 0.8900\n",
      "\n",
      "Trial 1 Complete [00h 04m 26s]\n",
      "val_accuracy: 0.8899999856948853\n",
      "\n",
      "Best val_accuracy So Far: 0.9036666750907898\n",
      "Total elapsed time: 00h 04m 26s\n",
      "\n",
      "Search: Running Trial #2\n",
      "\n",
      "Hyperparameter    |Value             |Best Value So Far \n",
      "conv_1_filter     |48                |48                \n",
      "conv_1_kernel     |5                 |5                 \n",
      "conv_2_filter     |64                |48                \n",
      "conv_2_kernel     |5                 |3                 \n",
      "dense_1_units     |48                |64                \n",
      "learning_rate     |0.001             |0.001             \n",
      "\n",
      "1688/1688 [==============================] - 201s 119ms/step - loss: 0.4239 - accuracy: 0.8470 - val_loss: 0.3152 - val_accuracy: 0.8827\n",
      "\n",
      "Trial 2 Complete [00h 03m 22s]\n",
      "val_accuracy: 0.8826666474342346\n",
      "\n",
      "Best val_accuracy So Far: 0.9036666750907898\n",
      "Total elapsed time: 00h 07m 49s\n",
      "\n",
      "Search: Running Trial #3\n",
      "\n",
      "Hyperparameter    |Value             |Best Value So Far \n",
      "conv_1_filter     |96                |48                \n",
      "conv_1_kernel     |3                 |5                 \n",
      "conv_2_filter     |48                |48                \n",
      "conv_2_kernel     |5                 |3                 \n",
      "dense_1_units     |112               |64                \n",
      "learning_rate     |0.01              |0.001             \n",
      "\n",
      "1200/1688 [====================>.........] - ETA: 1:41 - loss: 2.3363 - accuracy: 0.0992"
     ]
    }
   ],
   "source": [
    "tuner_search.search(train_images,train_labels,epochs = 1,validation_split = 0.1)"
   ]
  },
  {
   "cell_type": "code",
   "execution_count": 1,
   "id": "governing-september",
   "metadata": {},
   "outputs": [
    {
     "ename": "NameError",
     "evalue": "name 'tuner_search' is not defined",
     "output_type": "error",
     "traceback": [
      "\u001b[1;31m---------------------------------------------------------------------------\u001b[0m",
      "\u001b[1;31mNameError\u001b[0m                                 Traceback (most recent call last)",
      "\u001b[1;32m<ipython-input-1-fb296ec7c5f9>\u001b[0m in \u001b[0;36m<module>\u001b[1;34m\u001b[0m\n\u001b[1;32m----> 1\u001b[1;33m \u001b[0mmodel\u001b[0m\u001b[1;33m=\u001b[0m\u001b[0mtuner_search\u001b[0m\u001b[1;33m.\u001b[0m\u001b[0mget_best_models\u001b[0m\u001b[1;33m(\u001b[0m\u001b[0mnum_models\u001b[0m\u001b[1;33m=\u001b[0m\u001b[1;36m1\u001b[0m\u001b[1;33m)\u001b[0m\u001b[1;33m[\u001b[0m\u001b[1;36m0\u001b[0m\u001b[1;33m]\u001b[0m\u001b[1;33m\u001b[0m\u001b[1;33m\u001b[0m\u001b[0m\n\u001b[0m",
      "\u001b[1;31mNameError\u001b[0m: name 'tuner_search' is not defined"
     ]
    }
   ],
   "source": [
    "model=tuner_search.get_best_models(num_models=1)[0]"
   ]
  },
  {
   "cell_type": "code",
   "execution_count": null,
   "id": "insured-venture",
   "metadata": {},
   "outputs": [],
   "source": [
    "model.summary()"
   ]
  },
  {
   "cell_type": "code",
   "execution_count": null,
   "id": "blond-uruguay",
   "metadata": {},
   "outputs": [],
   "source": [
    "model.fit(train_images, train_labels, epochs=10, validation_split=0.1, initial_epoch=3)"
   ]
  }
 ],
 "metadata": {
  "kernelspec": {
   "display_name": "Python 3",
   "language": "python",
   "name": "python3"
  },
  "language_info": {
   "codemirror_mode": {
    "name": "ipython",
    "version": 3
   },
   "file_extension": ".py",
   "mimetype": "text/x-python",
   "name": "python",
   "nbconvert_exporter": "python",
   "pygments_lexer": "ipython3",
   "version": "3.7.9"
  }
 },
 "nbformat": 4,
 "nbformat_minor": 5
}
